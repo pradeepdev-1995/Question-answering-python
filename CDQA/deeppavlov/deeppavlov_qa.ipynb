{
  "nbformat": 4,
  "nbformat_minor": 0,
  "metadata": {
    "colab": {
      "name": "Untitled5.ipynb",
      "provenance": []
    },
    "kernelspec": {
      "name": "python3",
      "display_name": "Python 3"
    }
  },
  "cells": [
    {
      "cell_type": "code",
      "metadata": {
        "id": "6EQ8lAFteDIG",
        "colab_type": "code",
        "colab": {
          "base_uri": "https://localhost:8080/",
          "height": 309
        },
        "outputId": "b6c97e3b-b8b8-485d-d50b-1158bba3b0ff"
      },
      "source": [
        "from deeppavlov import build_model, configs\n",
        "model = build_model(configs.squad.squad, download=True)\n",
        "content = \"\"\"The total number of coronavirus cases in India has reached 101,261, according to Worldometer.\\\n",
        " As many as 3,163 people have died from the disease in the country, while a little over 39,000 have recovered. \\\n",
        " The count of cases rose even as several states announced easing of restrictions for the extended lockdown\\\n",
        "  in force till May 31. Several states have ordered reopening of markets, local transport and even salons\\\n",
        "  in areas that are considered safe from coronavirus. However, schools, colleges, theatres and malls are among\\\n",
        "  those that would remain closed\"\"\"\n",
        "question = \"which institutes will be closed\"\n",
        "print(model([content], [question])[0][0].capitalize())"
      ],
      "execution_count": 10,
      "outputs": [
        {
          "output_type": "stream",
          "text": [
            "2020-07-15 10:04:24.132 INFO in 'deeppavlov.download'['download'] at line 132: Skipped http://files.deeppavlov.ai/embeddings/wiki-news-300d-1M-char.vec download because of matching hashes\n",
            "2020-07-15 10:04:28.961 INFO in 'deeppavlov.download'['download'] at line 132: Skipped http://files.deeppavlov.ai/embeddings/wiki-news-300d-1M.vec download because of matching hashes\n",
            "2020-07-15 10:04:30.46 INFO in 'deeppavlov.download'['download'] at line 132: Skipped http://files.deeppavlov.ai/deeppavlov_data/squad_model_1.4_cpu_compatible.tar.gz download because of matching hashes\n",
            "2020-07-15 10:04:30.49 INFO in 'deeppavlov.models.preprocessors.squad_preprocessor'['squad_preprocessor'] at line 310: SquadVocabEmbedder: loading saved tokens vocab from /root/.deeppavlov/models/squad_model/emb/vocab_embedder.pckl\n",
            "2020-07-15 10:04:30.268 INFO in 'deeppavlov.models.preprocessors.squad_preprocessor'['squad_preprocessor'] at line 310: SquadVocabEmbedder: loading saved chars vocab from /root/.deeppavlov/models/squad_model/emb/char_vocab_embedder.pckl\n",
            "2020-07-15 10:04:30.814 INFO in 'deeppavlov.core.layers.tf_layers'['tf_layers'] at line 619: \n",
            "Warning! tf.contrib.cudnn_rnn.CudnnCompatibleGRUCell is used. It is okay for inference mode, but if you train your model with this cell it could NOT be used with tf.contrib.cudnn_rnn.CudnnGRUCell later. \n",
            "2020-07-15 10:04:30.953 INFO in 'deeppavlov.core.layers.tf_layers'['tf_layers'] at line 619: \n",
            "Warning! tf.contrib.cudnn_rnn.CudnnCompatibleGRUCell is used. It is okay for inference mode, but if you train your model with this cell it could NOT be used with tf.contrib.cudnn_rnn.CudnnGRUCell later. \n",
            "2020-07-15 10:04:31.107 INFO in 'deeppavlov.core.layers.tf_layers'['tf_layers'] at line 619: \n",
            "Warning! tf.contrib.cudnn_rnn.CudnnCompatibleGRUCell is used. It is okay for inference mode, but if you train your model with this cell it could NOT be used with tf.contrib.cudnn_rnn.CudnnGRUCell later. \n",
            "2020-07-15 10:04:31.208 INFO in 'deeppavlov.core.layers.tf_layers'['tf_layers'] at line 619: \n",
            "Warning! tf.contrib.cudnn_rnn.CudnnCompatibleGRUCell is used. It is okay for inference mode, but if you train your model with this cell it could NOT be used with tf.contrib.cudnn_rnn.CudnnGRUCell later. \n",
            "2020-07-15 10:04:44.838 INFO in 'deeppavlov.core.models.tf_model'['tf_model'] at line 51: [loading model from /root/.deeppavlov/models/squad_model/model]\n"
          ],
          "name": "stderr"
        },
        {
          "output_type": "stream",
          "text": [
            "INFO:tensorflow:Restoring parameters from /root/.deeppavlov/models/squad_model/model\n",
            "Schools, colleges, theatres and malls\n"
          ],
          "name": "stdout"
        }
      ]
    }
  ]
}